{
  "nbformat": 4,
  "nbformat_minor": 0,
  "metadata": {
    "colab": {
      "name": "Venkata Ashok.ipynb",
      "provenance": [],
      "collapsed_sections": [],
      "authorship_tag": "ABX9TyO6is63YgBX2jWHB5VlnfPa",
      "include_colab_link": true
    },
    "kernelspec": {
      "name": "python3",
      "display_name": "Python 3"
    },
    "language_info": {
      "name": "python"
    }
  },
  "cells": [
    {
      "cell_type": "markdown",
      "metadata": {
        "id": "view-in-github",
        "colab_type": "text"
      },
      "source": [
        "<a href=\"https://colab.research.google.com/github/Ashokteja956/Calculator-Assignment/blob/main/Venkata_Ashok.ipynb\" target=\"_parent\"><img src=\"https://colab.research.google.com/assets/colab-badge.svg\" alt=\"Open In Colab\"/></a>"
      ]
    },
    {
      "cell_type": "code",
      "execution_count": null,
      "metadata": {
        "id": "pIKB7coHqFAA"
      },
      "outputs": [],
      "source": [
        "import math\n",
        "def add(num1, num2):\n",
        "    return num1 + num2\n",
        "  \n",
        "def subtract(num1, num2):\n",
        "    return num1 - num2\n",
        "  \n",
        "def multiply(num1, num2):\n",
        "    return num1 * num2\n",
        "  \n",
        "def divide(num1, num2):\n",
        "    return num1 / num2\n",
        "\n",
        "def Square(num1, num2):\n",
        "    return num1 ** num2\n",
        "    \n",
        "def Squareroot(num1):\n",
        "    return math.sqrt(num1)\n",
        "    \n",
        "def x(num1):\n",
        "    return (num1**(-1))\n",
        "\n",
        "\n",
        "print(\"Please select operation -\\n\" \\\n",
        "        \"1. Add\\n\" \\\n",
        "        \"2. Subtract\\n\" \\\n",
        "        \"3. Multiply\\n\" \\\n",
        "        \"4. Divide\\n\" \\\n",
        "        \"5. Square\\n\" \\\n",
        "        \"6. Sqrt\\n\"\n",
        "        \"7. 1/x\")\n",
        "\n",
        "  \n",
        "select = int(input(\"Select operations form 1, 2, 3, 4, 5, 6, 7 :\"))\n",
        "  \n",
        "\n",
        "if select == 1:\n",
        "    number_1 = int(input(\"Enter first number: \"))\n",
        "    number_2 = int(input(\"Enter second number: \"))\n",
        "\n",
        "    print(number_1, \"+\", number_2, \"=\",add(number_1, number_2))\n",
        "  \n",
        "elif select == 2:\n",
        "    number_1 = int(input(\"Enter first number: \"))\n",
        "    number_2 = int(input(\"Enter second number: \"))\n",
        "\n",
        "    print(number_1, \"-\", number_2, \"=\", subtract(number_1, number_2))\n",
        "  \n",
        "elif select == 3:\n",
        "    number_1 = int(input(\"Enter first number: \"))\n",
        "    number_2 = int(input(\"Enter second number: \"))\n",
        "\n",
        "    print(number_1, \"*\", number_2, \"=\",multiply(number_1, number_2))\n",
        "  \n",
        "elif select == 4:\n",
        "    number_1 = int(input(\"Enter first number: \"))\n",
        "    number_2 = int(input(\"Enter second number: \"))\n",
        "\n",
        "    print(number_1, \"/\", number_2, \"=\",divide(number_1, number_2))\n",
        "elif select == 5:\n",
        "    number_1 = int(input(\"Enter first number: \"))\n",
        "    number_2 = int(input(\"Enter second number: \"))\n",
        "\n",
        "    print(number_1, \"**\", number_2, \"=\", Square(number_1, number_2))\n",
        "\n",
        "elif select == 6:\n",
        "    number_1 = int(input(\"Enter first number: \"))\n",
        "\n",
        "    print(math.sqrt(number_1))\n",
        "\n",
        "elif select == 7:\n",
        "    number_1 = int(input(\"Enter first number: \"))\n",
        "    print(number_1**(-1))\n",
        "\n",
        "\n",
        "else:\n",
        "    print(\"Invalid input\")\n",
        "\n",
        "\n"
      ]
    }
  ]
}